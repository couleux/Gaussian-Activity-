{
  "nbformat": 4,
  "nbformat_minor": 0,
  "metadata": {
    "colab": {
      "provenance": [],
      "include_colab_link": true
    },
    "kernelspec": {
      "name": "python3",
      "display_name": "Python 3"
    },
    "language_info": {
      "name": "python"
    }
  },
  "cells": [
    {
      "cell_type": "markdown",
      "metadata": {
        "id": "view-in-github",
        "colab_type": "text"
      },
      "source": [
        "<a href=\"https://colab.research.google.com/github/couleux/Gaussian-Activity-/blob/main/Silva_Gaussian_Activity_.ipynb\" target=\"_parent\"><img src=\"https://colab.research.google.com/assets/colab-badge.svg\" alt=\"Open In Colab\"/></a>"
      ]
    },
    {
      "cell_type": "code",
      "execution_count": null,
      "metadata": {
        "id": "fJM5GrTYaGYj"
      },
      "outputs": [],
      "source": [
        "import numpy as np\n",
        "\n",
        "# Helper function to print matrices in a clean format\n",
        "def print_matrix(mat, name=\"Matrix\"):\n",
        "    print(f\"{name}:\")\n",
        "    for row in mat:\n",
        "        print([\"{:.4f}\".format(val) for val in row])\n",
        "    print()\n"
      ]
    },
    {
      "cell_type": "code",
      "source": [
        "def naive_gauss_elimination_determinant(A):\n",
        "    n = len(A)\n",
        "    A = A.astype(float)\n",
        "    det_sign = 1  # Tracks sign changes during row swaps\n",
        "\n",
        "    print(\"Forward Elimination Steps:\")\n",
        "    for k in range(n - 1):\n",
        "        for i in range(k + 1, n):\n",
        "            if A[k, k] == 0:  # Check for zero pivot\n",
        "                raise ValueError(\"Zero pivot encountered!\")\n",
        "\n",
        "            factor = A[i, k] / A[k, k]\n",
        "            A[i, k:] = A[i, k:] - factor * A[k, k:]\n",
        "            print_matrix(A, f\"After eliminating row {i+1} using row {k+1}\")\n",
        "\n",
        "    # Determinant is product of diagonal elements\n",
        "    determinant = det_sign * np.prod(np.diag(A))\n",
        "    return determinant\n",
        "\n",
        "# Input Matrix A\n",
        "A = np.array([[4, -2, 1],\n",
        "              [1, -3, 2],\n",
        "              [3, 1, 4]])\n",
        "\n",
        "# Compute determinant using Naive Gauss Elimination\n",
        "print(\"Original Matrix A:\")\n",
        "print_matrix(A, \"A\")\n",
        "\n",
        "det_A = naive_gauss_elimination_determinant(A)\n",
        "print(f\"Determinant of A using Naïve Gauss Elimination: {det_A:.4f}\")\n"
      ],
      "metadata": {
        "colab": {
          "base_uri": "https://localhost:8080/"
        },
        "id": "fzS_4u9bap72",
        "outputId": "19667f46-88cb-4f9c-ed35-92b1a851d382"
      },
      "execution_count": null,
      "outputs": [
        {
          "output_type": "stream",
          "name": "stdout",
          "text": [
            "Original Matrix A:\n",
            "A:\n",
            "['4.0000', '-2.0000', '1.0000']\n",
            "['1.0000', '-3.0000', '2.0000']\n",
            "['3.0000', '1.0000', '4.0000']\n",
            "\n",
            "Forward Elimination Steps:\n",
            "After eliminating row 2 using row 1:\n",
            "['4.0000', '-2.0000', '1.0000']\n",
            "['0.0000', '-2.5000', '1.7500']\n",
            "['3.0000', '1.0000', '4.0000']\n",
            "\n",
            "After eliminating row 3 using row 1:\n",
            "['4.0000', '-2.0000', '1.0000']\n",
            "['0.0000', '-2.5000', '1.7500']\n",
            "['0.0000', '2.5000', '3.2500']\n",
            "\n",
            "After eliminating row 3 using row 2:\n",
            "['4.0000', '-2.0000', '1.0000']\n",
            "['0.0000', '-2.5000', '1.7500']\n",
            "['0.0000', '0.0000', '5.0000']\n",
            "\n",
            "Determinant of A using Naïve Gauss Elimination: -50.0000\n"
          ]
        }
      ]
    },
    {
      "cell_type": "code",
      "source": [
        "def gaussian_elimination_partial_pivoting(A, b):\n",
        "    n = len(A)\n",
        "    A = A.astype(float)\n",
        "    b = b.astype(float)\n",
        "\n",
        "    # Augment matrix A with vector b\n",
        "    Ab = np.column_stack((A, b))\n",
        "    print(\"Initial Augmented Matrix [A|b]:\")\n",
        "    print_matrix(Ab, \"[A|b]\")\n",
        "\n",
        "    # Forward elimination with partial pivoting\n",
        "    for k in range(n):\n",
        "        # Partial pivoting\n",
        "        max_row = np.argmax(abs(Ab[k:, k])) + k\n",
        "        if max_row != k:\n",
        "            Ab[[k, max_row]] = Ab[[max_row, k]]  # Swap rows\n",
        "            print_matrix(Ab, f\"After swapping row {k+1} with row {max_row+1}\")\n",
        "\n",
        "        for i in range(k + 1, n):\n",
        "            factor = Ab[i, k] / Ab[k, k]\n",
        "            Ab[i, k:] = Ab[i, k:] - factor * Ab[k, k:]\n",
        "            print_matrix(Ab, f\"After eliminating row {i+1} using row {k+1}\")\n",
        "\n",
        "    # Back substitution\n",
        "    x = np.zeros(n)\n",
        "    for i in range(n - 1, -1, -1):\n",
        "        x[i] = (Ab[i, -1] - np.dot(Ab[i, i+1:n], x[i+1:n])) / Ab[i, i]\n",
        "\n",
        "    return x\n",
        "\n",
        "# Input Matrix A and vector b\n",
        "A = np.array([[4, -2, 1],\n",
        "              [1, -3, 2],\n",
        "              [3, 1, 4]])\n",
        "b = np.array([7, 5, 6])\n",
        "\n",
        "# Solve the system using Gaussian Elimination with Partial Pivoting\n",
        "solution = gaussian_elimination_partial_pivoting(A, b)\n",
        "\n",
        "# Display the solution\n",
        "print(\"Solution to the system Ax = b:\")\n",
        "for i, val in enumerate(solution):\n",
        "    print(f\"x{i+1} = {val:.4f}\")\n"
      ],
      "metadata": {
        "colab": {
          "base_uri": "https://localhost:8080/"
        },
        "id": "Nbe9Zs0Dav95",
        "outputId": "45ceaddd-8aa4-462f-a73c-2a79aa096d3b"
      },
      "execution_count": null,
      "outputs": [
        {
          "output_type": "stream",
          "name": "stdout",
          "text": [
            "Initial Augmented Matrix [A|b]:\n",
            "[A|b]:\n",
            "['4.0000', '-2.0000', '1.0000', '7.0000']\n",
            "['1.0000', '-3.0000', '2.0000', '5.0000']\n",
            "['3.0000', '1.0000', '4.0000', '6.0000']\n",
            "\n",
            "After eliminating row 2 using row 1:\n",
            "['4.0000', '-2.0000', '1.0000', '7.0000']\n",
            "['0.0000', '-2.5000', '1.7500', '3.2500']\n",
            "['3.0000', '1.0000', '4.0000', '6.0000']\n",
            "\n",
            "After eliminating row 3 using row 1:\n",
            "['4.0000', '-2.0000', '1.0000', '7.0000']\n",
            "['0.0000', '-2.5000', '1.7500', '3.2500']\n",
            "['0.0000', '2.5000', '3.2500', '0.7500']\n",
            "\n",
            "After eliminating row 3 using row 2:\n",
            "['4.0000', '-2.0000', '1.0000', '7.0000']\n",
            "['0.0000', '-2.5000', '1.7500', '3.2500']\n",
            "['0.0000', '0.0000', '5.0000', '4.0000']\n",
            "\n",
            "Solution to the system Ax = b:\n",
            "x1 = 1.1800\n",
            "x2 = -0.7400\n",
            "x3 = 0.8000\n"
          ]
        }
      ]
    }
  ]
}